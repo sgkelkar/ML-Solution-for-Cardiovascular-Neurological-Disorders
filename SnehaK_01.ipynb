{
 "cells": [
  {
   "cell_type": "markdown",
   "id": "951ab85d",
   "metadata": {},
   "source": [
    "# Problem 1 Introduction"
   ]
  },
  {
   "cell_type": "markdown",
   "id": "a53e0f33",
   "metadata": {},
   "source": [
    "1a. Sneha Kelkar, sgk18001                    \n",
    "1b. In this notebook we are using AI to diagnose patients with heart diseases. In the latter part of the notebook, we are comparing differentt ypes of AI algorithms and talk about a common shortcoming of tree-based models:overfitting.\n",
    "Additioanlly, we will discuess how newer models have attempted to deal with this issue."
   ]
  },
  {
   "cell_type": "markdown",
   "id": "36f179ca",
   "metadata": {},
   "source": [
    "#### 1c. Methods"
   ]
  },
  {
   "cell_type": "markdown",
   "id": "77211f3c",
   "metadata": {},
   "source": [
    "1. The Heart Risk: An index that combines various factors that contribute to heart disease into a single metric. By incorporting multiple dimensions of heart health into one composite score, it offers a mosre holistic assement of an individual's risk of heart disease. This can be particularly useful in models where the interplay between different risk factors significaly impacts the outcome\n",
    "\n",
    "Exercise tolerance: measured through metrics like the maximum heart rate achieved and the presence of exercise-induced angina, exercise tolerance is a strong indicator of cardiovascular health. A composite score that encapsulates these aspects provides a direct measure of an individual's physical fitness level and their heart's ability to handle physical stress.\n",
    "\n",
    "2. As described above, mean-median data to impute missing data.\n",
    "3. We will split the data into train and test. We will scale the continuous variables and then split the test to validation and test for optimization\n",
    "4. We will utilize a custom gridsearch algorithm that will allow us to optimize on the validation data instead of the training data to ensure the ability to generalize\n",
    "5. inally, we will use a K-fold cross-validation  splitting strategy to see how these models will perform on the test set"
   ]
  },
  {
   "cell_type": "code",
   "execution_count": 38,
   "id": "82e429c0",
   "metadata": {},
   "outputs": [],
   "source": [
    "#---------------------------------------------------------------------------------------------\n",
    "#load the libraries that are required for this project:\n",
    "#---------------------------------------------------------------------------------------------\n",
    "import numpy as np              # NumPy is for numerical operations\n",
    "import pandas as pd             # Pandas is for data analysis and structure manipulation\n",
    "import matplotlib               # MatPlotLib is for making plots & figures\n",
    "import matplotlib.pyplot as plt # PyPlot is a subset of the library for making MATLAB-style plots"
   ]
  },
  {
   "cell_type": "markdown",
   "id": "85a3be70",
   "metadata": {},
   "source": [
    "## Data Cleaning"
   ]
  },
  {
   "cell_type": "markdown",
   "id": "f0e854ff",
   "metadata": {},
   "source": [
    "#### 1. Loading in the datasets and concatenating them together"
   ]
  },
  {
   "cell_type": "code",
   "execution_count": 39,
   "id": "f95e376f",
   "metadata": {},
   "outputs": [],
   "source": [
    "cleveland_df = pd.read_csv('cleveland.csv')\n",
    "hungary_df = pd.read_csv('hungarian.csv')\n",
    "switzerland = pd.read_csv('switzerland.csv')\n",
    "va_df = pd.read_csv('va.csv')\n",
    "\n",
    "df = pd.concat([cleveland_df, hungary_df, switzerland, va_df], ignore_index=True)\n"
   ]
  },
  {
   "cell_type": "markdown",
   "id": "84ea809d",
   "metadata": {},
   "source": [
    "#### 2. Inspecting the Data Types and Checking for missing values"
   ]
  },
  {
   "cell_type": "code",
   "execution_count": 40,
   "id": "4a536c71",
   "metadata": {},
   "outputs": [
    {
     "name": "stdout",
     "output_type": "stream",
     "text": [
      "<class 'pandas.core.frame.DataFrame'>\n",
      "RangeIndex: 920 entries, 0 to 919\n",
      "Data columns (total 14 columns):\n",
      " #   Column    Non-Null Count  Dtype  \n",
      "---  ------    --------------  -----  \n",
      " 0   age       920 non-null    int64  \n",
      " 1   sex       920 non-null    int64  \n",
      " 2   cp        920 non-null    int64  \n",
      " 3   trestbps  862 non-null    float64\n",
      " 4   chol      913 non-null    float64\n",
      " 5   fbs       913 non-null    object \n",
      " 6   restecg   919 non-null    float64\n",
      " 7   thalach   866 non-null    float64\n",
      " 8   exang     866 non-null    float64\n",
      " 9   oldpeak   858 non-null    float64\n",
      " 10  slope     801 non-null    float64\n",
      " 11  ca        916 non-null    object \n",
      " 12  thal      866 non-null    object \n",
      " 13  num       920 non-null    int64  \n",
      "dtypes: float64(7), int64(4), object(3)\n",
      "memory usage: 100.8+ KB\n"
     ]
    }
   ],
   "source": [
    "df.info()"
   ]
  },
  {
   "cell_type": "code",
   "execution_count": 41,
   "id": "cc07136b",
   "metadata": {},
   "outputs": [
    {
     "data": {
      "image/png": "[encoded data removed]",
      "text/plain": [
       "<Figure size 640x480 with 1 Axes>"
      ]
     },
     "metadata": {},
     "output_type": "display_data"
    }
   ],
   "source": [
    "#looking at the \"Thal\" column further\n",
    "\n",
    "df['thal'].value_counts().plot(kind='bar')\n",
    "plt.show()"
   ]
  },
  {
   "cell_type": "code",
   "execution_count": 42,
   "id": "b5fd6738",
   "metadata": {},
   "outputs": [
    {
     "data": {
      "image/png": "[encoded data removed]",
      "text/plain": [
       "<Figure size 640x480 with 1 Axes>"
      ]
     },
     "metadata": {},
     "output_type": "display_data"
    }
   ],
   "source": [
    "#Standardizing the values such that 3.0 = 3 and ? = -9 as specified in the instructions\n",
    "df['thal'] = df['thal'].replace(to_replace=[-9, '?'], value=np.NaN).astype(np.float32)\n",
    "df['thal'].value_counts().plot(kind='bar')\n",
    "plt.show()"
   ]
  },
  {
   "cell_type": "code",
   "execution_count": 43,
   "id": "b3e42dbe",
   "metadata": {},
   "outputs": [],
   "source": [
    "#Iterate over the columns with an operation to replace missing values\n",
    "for column in df.columns:\n",
    "    df[column] = df[column].replace(to_replace=[-9, '?', 'NaN'], value=np.NaN)"
   ]
  },
  {
   "cell_type": "code",
   "execution_count": 44,
   "id": "9b55c438",
   "metadata": {},
   "outputs": [
    {
     "name": "stdout",
     "output_type": "stream",
     "text": [
      "<class 'pandas.core.frame.DataFrame'>\n",
      "RangeIndex: 920 entries, 0 to 919\n",
      "Data columns (total 14 columns):\n",
      " #   Column    Non-Null Count  Dtype  \n",
      "---  ------    --------------  -----  \n",
      " 0   age       920 non-null    int64  \n",
      " 1   sex       920 non-null    int64  \n",
      " 2   cp        920 non-null    int64  \n",
      " 3   trestbps  861 non-null    float64\n",
      " 4   chol      890 non-null    float64\n",
      " 5   fbs       830 non-null    object \n",
      " 6   restecg   918 non-null    float64\n",
      " 7   thalach   865 non-null    float64\n",
      " 8   exang     865 non-null    float64\n",
      " 9   oldpeak   858 non-null    float64\n",
      " 10  slope     611 non-null    float64\n",
      " 11  ca        310 non-null    object \n",
      " 12  thal      434 non-null    float32\n",
      " 13  num       920 non-null    int64  \n",
      "dtypes: float32(1), float64(7), int64(4), object(2)\n",
      "memory usage: 97.2+ KB\n"
     ]
    }
   ],
   "source": [
    "df.info()"
   ]
  },
  {
   "cell_type": "code",
   "execution_count": 45,
   "id": "c0b9a32a",
   "metadata": {},
   "outputs": [
    {
     "name": "stdout",
     "output_type": "stream",
     "text": [
      " age : [63 67 37 41 56 62 57 53 44 52 48 54 49 64 58 60 50 66 43 40 69 59 42 55\n",
      " 61 65 71 51 46 45 39 68 47 34 35 29 70 77 38 74 76 36 32 31 33 28 30 72\n",
      " 73 75]\n",
      " sex : [1 0]\n",
      " cp : [1 4 3 2]\n",
      " trestbps : [145. 160. 120. 130. 140. 172. 150. 110. 132. 117. 135. 112. 105. 124.\n",
      " 125. 142. 128. 170. 155. 104. 180. 138. 108. 134. 122. 115. 118. 100.\n",
      " 200.  94. 165. 102. 152. 101. 126. 174. 148. 178. 158. 192. 129. 144.\n",
      " 123. 136. 146. 106. 156. 154. 114. 164. 113. 190.  92.  98.  nan  95.\n",
      "  80. 185. 116.   0.  96. 127.]\n",
      " chol : [233. 286. 229. 250. 204. 236. 268. 354. 254. 203. 192. 294. 256. 263.\n",
      " 199. 168. 239. 275. 266. 211. 283. 284. 224. 206. 219. 340. 226. 247.\n",
      " 167. 230. 335. 234. 177. 276. 353. 243. 225. 302. 212. 330. 175. 417.\n",
      " 197. 198. 290. 253. 172. 273. 213. 305. 216. 304. 188. 282. 185. 232.\n",
      " 326. 231. 269. 267. 248. 360. 258. 308. 245. 270. 208. 264. 321. 274.\n",
      " 325. 235. 257. 164. 141. 252. 255. 201. 222. 260. 182. 303. 265. 309.\n",
      " 307. 249. 186. 341. 183. 407. 217. 288. 220. 209. 227. 261. 174. 281.\n",
      " 221. 205. 240. 289. 318. 298. 564. 246. 322. 299. 300. 293. 277. 214.\n",
      " 207. 223. 160. 394. 184. 315. 409. 244. 195. 196. 126. 313. 259. 200.\n",
      " 262. 215. 228. 193. 271. 210. 327. 149. 295. 306. 178. 237. 218. 242.\n",
      " 319. 166. 180. 311. 278. 342. 169. 187. 157. 176. 241. 131.  nan 339.\n",
      " 468. 518. 194. 365. 202. 297. 412. 163. 529. 100. 238. 291. 329. 147.\n",
      "  85. 179. 392. 466. 129. 338. 156. 272. 393. 161. 292. 388. 331. 279.\n",
      " 603. 320. 287. 404. 312. 251. 328. 285. 280. 132. 117. 173. 336. 355.\n",
      " 171. 491. 347. 344. 358. 190.   0. 153. 316. 458. 384. 349. 142. 181.\n",
      " 310. 170. 369. 165. 337. 333. 139. 385.]\n",
      " fbs : [1 0 nan '0' '1']\n",
      " restecg : [ 2.  0.  1. nan]\n",
      " thalach : [150. 108. 129. 187. 172. 178. 160. 163. 147. 155. 148. 153. 142. 173.\n",
      " 162. 174. 168. 139. 171. 144. 132. 158. 114. 151. 161. 179. 120. 112.\n",
      " 137. 157. 169. 165. 123. 128. 152. 140. 188. 109. 125. 131. 170. 113.\n",
      "  99. 177. 141. 180. 111. 143. 182. 156. 115. 149. 145. 146. 175. 186.\n",
      " 185. 159. 130. 190. 136.  97. 127. 154. 133. 126. 202. 103. 166. 164.\n",
      " 184. 124. 122.  96. 138.  88. 105. 194. 195. 106. 167.  95. 192. 117.\n",
      " 121. 116.  71. 118. 181. 134.  90.  98.  87. 100.  82. 135.  94. 110.\n",
      "  92. 176. 119. 102.  91.  nan 104.  60.  83.  63.  70.  77.  72.  78.\n",
      "  86.  93.  67.  84.  80. 107.  69.  73.]\n",
      " exang : [ 0.  1. nan]\n",
      " oldpeak : [ 2.3  1.5  2.6  3.5  1.4  0.8  3.6  0.6  3.1  0.4  1.3  0.   0.5  1.6\n",
      "  1.   1.2  0.2  1.8  3.2  2.4  2.   2.5  2.2  2.8  3.   3.4  6.2  4.\n",
      "  5.6  2.9  0.1  2.1  1.9  4.2  0.9  1.1  3.8  0.7  0.3  4.4  5.   nan\n",
      " -1.1 -1.5 -0.1 -2.6 -0.7 -2.  -1.   1.7 -0.8 -0.5 -0.9  3.7]\n",
      " slope : [ 3.  2.  1. nan]\n",
      " ca : [0.0 3.0 2.0 1.0 nan 9 '1' '2' '0']\n",
      " thal : [ 6.  3.  7. nan]\n",
      " num : [0 2 1 3 4]\n"
     ]
    }
   ],
   "source": [
    "# A lot of these columns have missing values so they will need to be cleaned up\n",
    "#in the same way\n",
    "#----------------------------------------------------------------------------------------\n",
    "for column in df.columns:\n",
    "    print(f' {column} : {df[column].unique()}')"
   ]
  },
  {
   "cell_type": "code",
   "execution_count": 46,
   "id": "ea45c640",
   "metadata": {},
   "outputs": [],
   "source": [
    "df['fbs'] = df['fbs'].replace(to_replace=['0', '1'],value =  [0, 1])\n",
    "df['ca'] = df['ca'].replace(to_replace=['0', '1', '2', 9],value = [0, 1, 2, np.NaN])"
   ]
  },
  {
   "cell_type": "markdown",
   "id": "bc207a26",
   "metadata": {},
   "source": [
    "### Creating two new Features: 'Heart_Risk_Index' and 'Exercise_Tolerance_Score'"
   ]
  },
  {
   "cell_type": "markdown",
   "id": "113b0aa7",
   "metadata": {},
   "source": [
    "New Feature 1: Heart Risk Index \"heart_rate_index\" which combines several indicators associated with a higher risk of heart disease, is calculated as the product of the patient's age divided by their maximum heart rate achieved (thalach) and the number of major vessels colored by fluoroscopy (ca)\n",
    "\n",
    "New Feature 2: Exercise Tolerance Score 'exercise_tolerance_score' is derived from the ST depression induced by exercise relative to rest (oldpeak) multiplied by the increment of exercise-induced angina (exang + 1)."
   ]
  },
  {
   "cell_type": "code",
   "execution_count": 47,
   "id": "f31a87cb",
   "metadata": {},
   "outputs": [],
   "source": [
    "df['heart_risk_index'] = (df['age'] / df['thalach']) * df['ca'].astype(float)\n",
    "df['exercise_tolerance_score'] = df['oldpeak'] * (df['exang'] + 1)"
   ]
  },
  {
   "cell_type": "markdown",
   "id": "5e7d9ce4",
   "metadata": {},
   "source": [
    "### Scaling and Imputing Missing Values"
   ]
  },
  {
   "cell_type": "markdown",
   "id": "d34c8934",
   "metadata": {},
   "source": [
    "Here, split the data to train and test (and validation later). We Scale the data. Then, we will implement an imputation technique for missing values with median/mean imputation. It does so by finding the nearest neighbor(s) by using the mean and median as metrics.Then, it computes the average value of the desired imputed value .This process is repeated for each feature that has missing values. We can tune the n_neighbors parameter later"
   ]
  },
  {
   "cell_type": "code",
   "execution_count": 48,
   "id": "4483e442",
   "metadata": {},
   "outputs": [
    {
     "name": "stdout",
     "output_type": "stream",
     "text": [
      "Done\n"
     ]
    }
   ],
   "source": [
    "from sklearn.model_selection import StratifiedShuffleSplit\n",
    "from sklearn.preprocessing import StandardScaler\n",
    "from sklearn.impute import SimpleImputer\n",
    "\n",
    "n_neighbors = 15\n",
    "# Assuming 'df' is your DataFrame and 'target' is the target variable\n",
    "X = df.drop('num', axis=1)\n",
    "y = df['num']\n",
    "continuous_cols = ['oldpeak', 'thalach', 'chol', 'trestbps', 'age', 'exercise_tolerance_score']\n",
    "categorical_cols = [col for col in X.columns if col not in continuous_cols]\n",
    "\n",
    "# Define the stratified shuffle split\n",
    "split_info = StratifiedShuffleSplit(n_splits=1, test_size=0.3, random_state=42)\n",
    "\n",
    "for train_index, test_index in split_info.split(X, y):\n",
    "    X_train, X_test = X.iloc[train_index], X.iloc[test_index]\n",
    "    y_train, y_test = y.iloc[train_index], y.iloc[test_index]\n",
    "\n",
    "# Scale the data\n",
    "scaler = StandardScaler()\n",
    "X_train_continuous = scaler.fit_transform(X_train[continuous_cols])\n",
    "X_test_continuous = scaler.transform(X_test[continuous_cols])\n",
    "\n",
    "X_train_scaled = np.hstack((X_train_continuous, X_train[categorical_cols]))\n",
    "X_test_scaled = np.hstack((X_test_continuous, X_test[categorical_cols]))\n",
    "\n",
    "# Standardize using median value for all values and missing values (based off of Practice 03)\n",
    "imputer = SimpleImputer(strategy='median')\n",
    "X_train_scaled = imputer.fit_transform(X_train_scaled)\n",
    "X_test_scaled = imputer.transform(X_test_scaled)\n",
    "\n",
    "print('Done')"
   ]
  },
  {
   "cell_type": "markdown",
   "id": "f0d3ae0f",
   "metadata": {},
   "source": [
    "## Model Training"
   ]
  },
  {
   "cell_type": "code",
   "execution_count": 49,
   "id": "553afcb0",
   "metadata": {},
   "outputs": [],
   "source": [
    "#necessary imports\n",
    "from sklearn.ensemble import RandomForestClassifier\n",
    "from sklearn.ensemble import AdaBoostClassifier\n",
    "from sklearn.tree import DecisionTreeClassifier\n",
    "from sklearn.ensemble import BaggingClassifier\n",
    "from sklearn.model_selection import GridSearchCV\n",
    "from sklearn.metrics import accuracy_score"
   ]
  },
  {
   "cell_type": "markdown",
   "id": "2ccd3fc0",
   "metadata": {},
   "source": [
    "### Random Forest:"
   ]
  },
  {
   "cell_type": "markdown",
   "id": "d2aaa552",
   "metadata": {},
   "source": [
    "Here we implement a custom grid search where we optimize on the validation data and see the final result on the test data"
   ]
  },
  {
   "cell_type": "code",
   "execution_count": 50,
   "id": "b636520f",
   "metadata": {},
   "outputs": [
    {
     "name": "stdout",
     "output_type": "stream",
     "text": [
      "Best parameters for Random Forest: {'bootstrap': True, 'criterion': 'gini', 'max_depth': 10, 'max_features': None, 'min_samples_split': 5, 'n_estimators': 50}\n",
      "Best score on the validation set for Random Forest: 0.5512718023255814\n",
      "Accuracy on the test set: 0.5326\n",
      "Done\n"
     ]
    }
   ],
   "source": [
    "# Hyper-parameter grid\n",
    "param_grid_rf = {\n",
    "    'n_estimators': [10, 50, 100, 200],\n",
    "    'max_depth': [10, 20, 30, 40],\n",
    "    'min_samples_split': [2, 5, 10],\n",
    "    'max_features': [None, 'sqrt', 'log2'],\n",
    "    'bootstrap': [True, False],\n",
    "    'criterion': ['gini', 'entropy', 'log_loss']\n",
    "}\n",
    "\n",
    "grid_search_rf = GridSearchCV(RandomForestClassifier(random_state=42, n_jobs=-1), param_grid_rf, cv=5, scoring='accuracy', n_jobs=-1)\n",
    "\n",
    "grid_search_rf.fit(X_train_scaled, y_train)\n",
    "best_params = grid_search_rf.best_params_\n",
    "best_score = grid_search_rf.best_score_\n",
    "# Print the best parameters and their score on the validation set\n",
    "print(\"Best parameters for Random Forest:\", best_params)\n",
    "print(\"Best score on the validation set for Random Forest:\", best_score)\n",
    "# Now you can retrain your model on the full training set with the best parameters\n",
    "rf_best = RandomForestClassifier(**best_params, random_state=42)\n",
    "rf_best.fit(X_train_scaled, y_train)\n",
    "\n",
    "y_pred = rf_best.predict(X_test_scaled)\n",
    "test_accuracy = accuracy_score(y_test, y_pred)\n",
    "print(f\"Accuracy on the test set: {test_accuracy:.4f}\")\n",
    "\n",
    "print('Done')"
   ]
  },
  {
   "cell_type": "markdown",
   "id": "7fe395c9",
   "metadata": {},
   "source": [
    "### Decision Trees with Boosting (AdaBoost)"
   ]
  },
  {
   "cell_type": "code",
   "execution_count": 51,
   "id": "3776e598",
   "metadata": {},
   "outputs": [
    {
     "name": "stdout",
     "output_type": "stream",
     "text": [
      "Best parameters for AdaBoost: {'algorithm': 'SAMME', 'estimator__max_depth': 3, 'learning_rate': 0.01, 'n_estimators': 200}\n",
      "Best score on the validation set for AdaBoost: 0.5434714147286821\n",
      "Accuracy on the test set: 0.5399\n"
     ]
    }
   ],
   "source": [
    "param_grid_adaboost = {\n",
    "    'n_estimators': [50, 100, 200],\n",
    "    'learning_rate': [0.01, 0.1, 1],\n",
    "    'estimator__max_depth': [1, 2, 3],\n",
    "    'algorithm':['SAMME']\n",
    "}\n",
    "base_estimator = DecisionTreeClassifier()\n",
    "estimator = AdaBoostClassifier(estimator=base_estimator)\n",
    "grid_search_ada = GridSearchCV(estimator=estimator, param_grid=param_grid_adaboost, scoring='accuracy', cv=5)\n",
    "\n",
    "grid_search_ada.fit(X_train_scaled, y_train)\n",
    "\n",
    "best_params_adaboost = grid_search_ada.best_params_\n",
    "best_score_adaboost = grid_search_ada.best_score_\n",
    "# Print the best parameters and their score on the validation set\n",
    "print(\"Best parameters for AdaBoost:\", best_params_adaboost)\n",
    "print(\"Best score on the validation set for AdaBoost:\", best_score_adaboost)\n",
    "\n",
    "best_model = DecisionTreeClassifier(max_depth = best_params_adaboost['estimator__max_depth'])\n",
    "best_model = AdaBoostClassifier(estimator = best_model, n_estimators = best_params_adaboost['n_estimators'], learning_rate = best_params_adaboost['learning_rate'], random_state=42, algorithm='SAMME')\n",
    "best_model.fit(X_train_scaled, y_train)\n",
    "\n",
    "y_pred = best_model.predict(X_test_scaled)\n",
    "test_accuracy = accuracy_score(y_test, y_pred)\n",
    "print(f\"Accuracy on the test set: {test_accuracy:.4f}\")"
   ]
  },
  {
   "cell_type": "markdown",
   "id": "0226eba5",
   "metadata": {},
   "source": [
    "### Decision Trees with Bagging:"
   ]
  },
  {
   "cell_type": "code",
   "execution_count": 52,
   "id": "790767a2",
   "metadata": {},
   "outputs": [
    {
     "name": "stdout",
     "output_type": "stream",
     "text": [
      "Best parameters for Bagging: {'bootstrap': True, 'estimator__max_depth': 10, 'n_estimators': 100}\n",
      "Best score on the validation set for Bagging: 0.5388323643410853\n",
      "Accuracy on the test set: 0.5217\n"
     ]
    }
   ],
   "source": [
    "# Hyper-parameter grid for Bagging\n",
    "param_grid_bagging = {\n",
    "    'n_estimators': [10, 20, 50, 100, 150],\n",
    "    'estimator__max_depth': [None, 10, 20, 30, 40],\n",
    "    'bootstrap' :[True, False],\n",
    "}\n",
    "base_estimator = DecisionTreeClassifier(random_state = 42)\n",
    "estimator = BaggingClassifier(base_estimator)\n",
    "grid_search_bagging = GridSearchCV(estimator, param_grid = param_grid_bagging, cv=5, scoring='accuracy',\n",
    "                                   n_jobs = -1)\n",
    "\n",
    "grid_search_bagging.fit(X_train_scaled, y_train)\n",
    "best_params_bagging = grid_search_bagging.best_params_\n",
    "best_score_bagging = grid_search_bagging.best_score_\n",
    "\n",
    "print(\"Best parameters for Bagging:\", best_params_bagging)\n",
    "print(\"Best score on the validation set for Bagging:\", best_score_bagging)\n",
    "\n",
    "base_estimator = DecisionTreeClassifier(max_depth = best_params_bagging['estimator__max_depth'])\n",
    "best_model = BaggingClassifier(base_estimator,n_estimators=best_params_bagging['n_estimators'], random_state=42)\n",
    "best_model.fit(X_train_scaled, y_train)\n",
    "\n",
    "y_pred = best_model.predict(X_test_scaled)\n",
    "test_accuracy = accuracy_score(y_test, y_pred)\n",
    "print(f\"Accuracy on the test set: {test_accuracy:.4f}\")"
   ]
  },
  {
   "cell_type": "markdown",
   "id": "99518262",
   "metadata": {},
   "source": [
    "## 1d. Results"
   ]
  },
  {
   "cell_type": "markdown",
   "id": "2b21c330",
   "metadata": {},
   "source": [
    "To summarize, these models, show good potential to produce impressive results.\n",
    "Having said that, the models still seem to overfit. To deal with the overfitting problem that tree models usually face, we added elements such as training multiple trees (random forest), or learning from previous mistakes (boosting), or finally, bootstrapping the data to reduce overfitting (bagging). "
   ]
  },
  {
   "cell_type": "code",
   "execution_count": null,
   "id": "dead3e9b",
   "metadata": {},
   "outputs": [],
   "source": []
  }
 ],
 "metadata": {
  "kernelspec": {
   "display_name": "Python 3 (ipykernel)",
   "language": "python",
   "name": "python3"
  },
  "language_info": {
   "codemirror_mode": {
    "name": "ipython",
    "version": 3
   },
   "file_extension": ".py",
   "mimetype": "text/x-python",
   "name": "python",
   "nbconvert_exporter": "python",
   "pygments_lexer": "ipython3",
   "version": "3.11.5"
  }
 },
 "nbformat": 4,
 "nbformat_minor": 5
}
