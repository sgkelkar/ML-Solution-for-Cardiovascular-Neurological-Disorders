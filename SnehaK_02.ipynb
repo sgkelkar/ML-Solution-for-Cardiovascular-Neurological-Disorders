{
 "cells": [
  {
   "cell_type": "markdown",
   "id": "c7edb7b0",
   "metadata": {},
   "source": [
    "## Problem 2 Introduction"
   ]
  },
  {
   "cell_type": "markdown",
   "id": "fd11521b",
   "metadata": {},
   "source": [
    "1a. Sneha Kelkar, sgk18001\n",
    "\n",
    "1b. In this notebook, we are comparing two AI models to predict the most likely value of the motor UPDRS for Parkinson's patients. Primarily, we are using AdaBoost and Random forest.\n",
    "In the end, we will compare the results displayed by each model and pick the best"
   ]
  },
  {
   "cell_type": "markdown",
   "id": "162c20fd",
   "metadata": {},
   "source": [
    "### 1c. Methods"
   ]
  },
  {
   "cell_type": "markdown",
   "id": "6cf1df41",
   "metadata": {},
   "source": [
    "1.  As described, no missing value is recorded, so handling null values is not an issue\n",
    "2. Even though it is unclear whether we should scale the values or not, through trial and error, scaling the variables produced better results\n",
    "3. We will use GridSearch to optimize the models, comparing the validation values. We will optimize the models using GridSearchCV\n",
    "4. We will use cross validation to obtain reliable estimates of the test mean squared error and make sure no patient is simultaneously represented in both split data sets"
   ]
  },
  {
   "cell_type": "code",
   "execution_count": 41,
   "id": "fa16fc27",
   "metadata": {},
   "outputs": [],
   "source": [
    "# ---------------------------------------------------------------------------------------------\n",
    "# load the libraries that are required for this project:\n",
    "#---------------------------------------------------------------------------------------------\n",
    "import pandas as pd             # Pandas is for data analysis and structure manipulation\n",
    "import numpy as np              # NumPy is for numerical operations "
   ]
  },
  {
   "cell_type": "markdown",
   "id": "b21897ee",
   "metadata": {},
   "source": [
    "## Data Cleaning"
   ]
  },
  {
   "cell_type": "code",
   "execution_count": 42,
   "id": "010d597c",
   "metadata": {},
   "outputs": [],
   "source": [
    "# load the dataset and drop 'total_UPDRS'\n",
    "df = pd.read_csv('dataset_parkinson.csv')\n",
    "df = df.drop('total_UPDRS', axis = 1)"
   ]
  },
  {
   "cell_type": "code",
   "execution_count": 43,
   "id": "d843a62a",
   "metadata": {},
   "outputs": [
    {
     "name": "stdout",
     "output_type": "stream",
     "text": [
      "<class 'pandas.core.frame.DataFrame'>\n",
      "RangeIndex: 5875 entries, 0 to 5874\n",
      "Data columns (total 18 columns):\n",
      " #   Column         Non-Null Count  Dtype  \n",
      "---  ------         --------------  -----  \n",
      " 0   name           5875 non-null   int64  \n",
      " 1   motor_UPDRS    5875 non-null   float64\n",
      " 2   Jitter(%)      5875 non-null   float64\n",
      " 3   Jitter(Abs)    5875 non-null   float64\n",
      " 4   Jitter:RAP     5875 non-null   float64\n",
      " 5   Jitter:PPQ5    5875 non-null   float64\n",
      " 6   Jitter:DDP     5875 non-null   float64\n",
      " 7   Shimmer        5875 non-null   float64\n",
      " 8   Shimmer(dB)    5875 non-null   float64\n",
      " 9   Shimmer:APQ3   5875 non-null   float64\n",
      " 10  Shimmer:APQ5   5875 non-null   float64\n",
      " 11  Shimmer:APQ11  5875 non-null   float64\n",
      " 12  Shimmer:DDA    5875 non-null   float64\n",
      " 13  NHR            5875 non-null   float64\n",
      " 14  HNR            5875 non-null   float64\n",
      " 15  RPDE           5875 non-null   float64\n",
      " 16  DFA            5875 non-null   float64\n",
      " 17  PPE            5875 non-null   float64\n",
      "dtypes: float64(17), int64(1)\n",
      "memory usage: 826.3 KB\n"
     ]
    }
   ],
   "source": [
    "#inspecting the data types and checking for missing values\n",
    "df.info()"
   ]
  },
  {
   "cell_type": "code",
   "execution_count": 44,
   "id": "98137c75",
   "metadata": {},
   "outputs": [
    {
     "data": {
      "text/html": [
       "<div>\n",
       "<style scoped>\n",
       "    .dataframe tbody tr th:only-of-type {\n",
       "        vertical-align: middle;\n",
       "    }\n",
       "\n",
       "    .dataframe tbody tr th {\n",
       "        vertical-align: top;\n",
       "    }\n",
       "\n",
       "    .dataframe thead th {\n",
       "        text-align: right;\n",
       "    }\n",
       "</style>\n",
       "<table border=\"1\" class=\"dataframe\">\n",
       "  <thead>\n",
       "    <tr style=\"text-align: right;\">\n",
       "      <th></th>\n",
       "      <th>name</th>\n",
       "      <th>motor_UPDRS</th>\n",
       "      <th>Jitter(%)</th>\n",
       "      <th>Jitter(Abs)</th>\n",
       "      <th>Jitter:RAP</th>\n",
       "      <th>Jitter:PPQ5</th>\n",
       "      <th>Jitter:DDP</th>\n",
       "      <th>Shimmer</th>\n",
       "      <th>Shimmer(dB)</th>\n",
       "      <th>Shimmer:APQ3</th>\n",
       "      <th>Shimmer:APQ5</th>\n",
       "      <th>Shimmer:APQ11</th>\n",
       "      <th>Shimmer:DDA</th>\n",
       "      <th>NHR</th>\n",
       "      <th>HNR</th>\n",
       "      <th>RPDE</th>\n",
       "      <th>DFA</th>\n",
       "      <th>PPE</th>\n",
       "    </tr>\n",
       "  </thead>\n",
       "  <tbody>\n",
       "    <tr>\n",
       "      <th>count</th>\n",
       "      <td>5875.000000</td>\n",
       "      <td>5875.000000</td>\n",
       "      <td>5875.000000</td>\n",
       "      <td>5875.000000</td>\n",
       "      <td>5875.000000</td>\n",
       "      <td>5875.000000</td>\n",
       "      <td>5875.000000</td>\n",
       "      <td>5875.000000</td>\n",
       "      <td>5875.000000</td>\n",
       "      <td>5875.000000</td>\n",
       "      <td>5875.000000</td>\n",
       "      <td>5875.000000</td>\n",
       "      <td>5875.000000</td>\n",
       "      <td>5875.000000</td>\n",
       "      <td>5875.000000</td>\n",
       "      <td>5875.000000</td>\n",
       "      <td>5875.000000</td>\n",
       "      <td>5875.000000</td>\n",
       "    </tr>\n",
       "    <tr>\n",
       "      <th>mean</th>\n",
       "      <td>21.494128</td>\n",
       "      <td>21.296229</td>\n",
       "      <td>0.006154</td>\n",
       "      <td>0.000044</td>\n",
       "      <td>0.002987</td>\n",
       "      <td>0.003277</td>\n",
       "      <td>0.008962</td>\n",
       "      <td>0.034035</td>\n",
       "      <td>0.310960</td>\n",
       "      <td>0.017156</td>\n",
       "      <td>0.020144</td>\n",
       "      <td>0.027481</td>\n",
       "      <td>0.051467</td>\n",
       "      <td>0.032120</td>\n",
       "      <td>21.679495</td>\n",
       "      <td>0.541473</td>\n",
       "      <td>0.653240</td>\n",
       "      <td>0.219589</td>\n",
       "    </tr>\n",
       "    <tr>\n",
       "      <th>std</th>\n",
       "      <td>12.372279</td>\n",
       "      <td>8.129282</td>\n",
       "      <td>0.005624</td>\n",
       "      <td>0.000036</td>\n",
       "      <td>0.003124</td>\n",
       "      <td>0.003732</td>\n",
       "      <td>0.009371</td>\n",
       "      <td>0.025835</td>\n",
       "      <td>0.230254</td>\n",
       "      <td>0.013237</td>\n",
       "      <td>0.016664</td>\n",
       "      <td>0.019986</td>\n",
       "      <td>0.039711</td>\n",
       "      <td>0.059692</td>\n",
       "      <td>4.291096</td>\n",
       "      <td>0.100986</td>\n",
       "      <td>0.070902</td>\n",
       "      <td>0.091498</td>\n",
       "    </tr>\n",
       "    <tr>\n",
       "      <th>min</th>\n",
       "      <td>1.000000</td>\n",
       "      <td>5.037700</td>\n",
       "      <td>0.000830</td>\n",
       "      <td>0.000002</td>\n",
       "      <td>0.000330</td>\n",
       "      <td>0.000430</td>\n",
       "      <td>0.000980</td>\n",
       "      <td>0.003060</td>\n",
       "      <td>0.026000</td>\n",
       "      <td>0.001610</td>\n",
       "      <td>0.001940</td>\n",
       "      <td>0.002490</td>\n",
       "      <td>0.004840</td>\n",
       "      <td>0.000286</td>\n",
       "      <td>1.659000</td>\n",
       "      <td>0.151020</td>\n",
       "      <td>0.514040</td>\n",
       "      <td>0.021983</td>\n",
       "    </tr>\n",
       "    <tr>\n",
       "      <th>25%</th>\n",
       "      <td>10.000000</td>\n",
       "      <td>15.000000</td>\n",
       "      <td>0.003580</td>\n",
       "      <td>0.000022</td>\n",
       "      <td>0.001580</td>\n",
       "      <td>0.001820</td>\n",
       "      <td>0.004730</td>\n",
       "      <td>0.019120</td>\n",
       "      <td>0.175000</td>\n",
       "      <td>0.009280</td>\n",
       "      <td>0.010790</td>\n",
       "      <td>0.015665</td>\n",
       "      <td>0.027830</td>\n",
       "      <td>0.010955</td>\n",
       "      <td>19.406000</td>\n",
       "      <td>0.469785</td>\n",
       "      <td>0.596180</td>\n",
       "      <td>0.156340</td>\n",
       "    </tr>\n",
       "    <tr>\n",
       "      <th>50%</th>\n",
       "      <td>22.000000</td>\n",
       "      <td>20.871000</td>\n",
       "      <td>0.004900</td>\n",
       "      <td>0.000034</td>\n",
       "      <td>0.002250</td>\n",
       "      <td>0.002490</td>\n",
       "      <td>0.006750</td>\n",
       "      <td>0.027510</td>\n",
       "      <td>0.253000</td>\n",
       "      <td>0.013700</td>\n",
       "      <td>0.015940</td>\n",
       "      <td>0.022710</td>\n",
       "      <td>0.041110</td>\n",
       "      <td>0.018448</td>\n",
       "      <td>21.920000</td>\n",
       "      <td>0.542250</td>\n",
       "      <td>0.643600</td>\n",
       "      <td>0.205500</td>\n",
       "    </tr>\n",
       "    <tr>\n",
       "      <th>75%</th>\n",
       "      <td>33.000000</td>\n",
       "      <td>27.596500</td>\n",
       "      <td>0.006800</td>\n",
       "      <td>0.000053</td>\n",
       "      <td>0.003290</td>\n",
       "      <td>0.003460</td>\n",
       "      <td>0.009870</td>\n",
       "      <td>0.039750</td>\n",
       "      <td>0.365000</td>\n",
       "      <td>0.020575</td>\n",
       "      <td>0.023755</td>\n",
       "      <td>0.032715</td>\n",
       "      <td>0.061735</td>\n",
       "      <td>0.031463</td>\n",
       "      <td>24.444000</td>\n",
       "      <td>0.614045</td>\n",
       "      <td>0.711335</td>\n",
       "      <td>0.264490</td>\n",
       "    </tr>\n",
       "    <tr>\n",
       "      <th>max</th>\n",
       "      <td>42.000000</td>\n",
       "      <td>39.511000</td>\n",
       "      <td>0.099990</td>\n",
       "      <td>0.000446</td>\n",
       "      <td>0.057540</td>\n",
       "      <td>0.069560</td>\n",
       "      <td>0.172630</td>\n",
       "      <td>0.268630</td>\n",
       "      <td>2.107000</td>\n",
       "      <td>0.162670</td>\n",
       "      <td>0.167020</td>\n",
       "      <td>0.275460</td>\n",
       "      <td>0.488020</td>\n",
       "      <td>0.748260</td>\n",
       "      <td>37.875000</td>\n",
       "      <td>0.966080</td>\n",
       "      <td>0.865600</td>\n",
       "      <td>0.731730</td>\n",
       "    </tr>\n",
       "  </tbody>\n",
       "</table>\n",
       "</div>"
      ],
      "text/plain": [
       "              name  motor_UPDRS    Jitter(%)  Jitter(Abs)   Jitter:RAP  \\\n",
       "count  5875.000000  5875.000000  5875.000000  5875.000000  5875.000000   \n",
       "mean     21.494128    21.296229     0.006154     0.000044     0.002987   \n",
       "std      12.372279     8.129282     0.005624     0.000036     0.003124   \n",
       "min       1.000000     5.037700     0.000830     0.000002     0.000330   \n",
       "25%      10.000000    15.000000     0.003580     0.000022     0.001580   \n",
       "50%      22.000000    20.871000     0.004900     0.000034     0.002250   \n",
       "75%      33.000000    27.596500     0.006800     0.000053     0.003290   \n",
       "max      42.000000    39.511000     0.099990     0.000446     0.057540   \n",
       "\n",
       "       Jitter:PPQ5   Jitter:DDP      Shimmer  Shimmer(dB)  Shimmer:APQ3  \\\n",
       "count  5875.000000  5875.000000  5875.000000  5875.000000   5875.000000   \n",
       "mean      0.003277     0.008962     0.034035     0.310960      0.017156   \n",
       "std       0.003732     0.009371     0.025835     0.230254      0.013237   \n",
       "min       0.000430     0.000980     0.003060     0.026000      0.001610   \n",
       "25%       0.001820     0.004730     0.019120     0.175000      0.009280   \n",
       "50%       0.002490     0.006750     0.027510     0.253000      0.013700   \n",
       "75%       0.003460     0.009870     0.039750     0.365000      0.020575   \n",
       "max       0.069560     0.172630     0.268630     2.107000      0.162670   \n",
       "\n",
       "       Shimmer:APQ5  Shimmer:APQ11  Shimmer:DDA          NHR          HNR  \\\n",
       "count   5875.000000    5875.000000  5875.000000  5875.000000  5875.000000   \n",
       "mean       0.020144       0.027481     0.051467     0.032120    21.679495   \n",
       "std        0.016664       0.019986     0.039711     0.059692     4.291096   \n",
       "min        0.001940       0.002490     0.004840     0.000286     1.659000   \n",
       "25%        0.010790       0.015665     0.027830     0.010955    19.406000   \n",
       "50%        0.015940       0.022710     0.041110     0.018448    21.920000   \n",
       "75%        0.023755       0.032715     0.061735     0.031463    24.444000   \n",
       "max        0.167020       0.275460     0.488020     0.748260    37.875000   \n",
       "\n",
       "              RPDE          DFA          PPE  \n",
       "count  5875.000000  5875.000000  5875.000000  \n",
       "mean      0.541473     0.653240     0.219589  \n",
       "std       0.100986     0.070902     0.091498  \n",
       "min       0.151020     0.514040     0.021983  \n",
       "25%       0.469785     0.596180     0.156340  \n",
       "50%       0.542250     0.643600     0.205500  \n",
       "75%       0.614045     0.711335     0.264490  \n",
       "max       0.966080     0.865600     0.731730  "
      ]
     },
     "execution_count": 44,
     "metadata": {},
     "output_type": "execute_result"
    }
   ],
   "source": [
    "df.describe()\n"
   ]
  },
  {
   "cell_type": "markdown",
   "id": "f9ce1d8b",
   "metadata": {},
   "source": [
    "### Scaling and splitting the data"
   ]
  },
  {
   "cell_type": "code",
   "execution_count": 45,
   "id": "9a0d3a1b",
   "metadata": {},
   "outputs": [
    {
     "name": "stdout",
     "output_type": "stream",
     "text": [
      "[37 19 41 29  2 11 12 28 26 16 10 15 25 31 27 38 17 13  6 30 34 33  9 36\n",
      "  5 32 20 40 42  3 21  4 39 22 35  1  8 23 18 24  7 14]\n"
     ]
    }
   ],
   "source": [
    "from sklearn.model_selection import train_test_split, GridSearchCV\n",
    "from sklearn.preprocessing import StandardScaler\n",
    "unique_patients = df['name'].unique()\n",
    "np.random.shuffle(unique_patients)\n",
    "print(unique_patients)\n",
    "\n",
    "# Split unique patients into train and test groups\n",
    "train_patients, test_patients = train_test_split(unique_patients, test_size=0.3, random_state=42)\n",
    "\n",
    "train_df = df[df['name'].isin(train_patients)]\n",
    "test_df = df[df['name'].isin(test_patients)]\n",
    "\n",
    "X_train = train_df.drop(['motor_UPDRS', 'name'], axis = 1)\n",
    "X_test = test_df.drop(['motor_UPDRS', 'name'], axis = 1)\n",
    "y_train = train_df['motor_UPDRS']\n",
    "y_test = test_df['motor_UPDRS']\n",
    "\n",
    "scaler = StandardScaler()\n",
    "X_train_scaled = scaler.fit_transform(X_train)\n",
    "X_test_scaled = scaler.transform(X_test)"
   ]
  },
  {
   "cell_type": "markdown",
   "id": "24711991",
   "metadata": {},
   "source": [
    "#### after getting inconsistent results for sample values using 'StratifiedShuffleSplit' we can use 'test_train_split' from the same library which randomly splits the data into trianing and testing sets automatically for a balanced data set"
   ]
  },
  {
   "cell_type": "markdown",
   "id": "2c4d231c",
   "metadata": {},
   "source": [
    "## Model Training"
   ]
  },
  {
   "cell_type": "code",
   "execution_count": 46,
   "id": "b63c580f",
   "metadata": {},
   "outputs": [],
   "source": [
    "from sklearn.model_selection import cross_val_score \n",
    "from sklearn.ensemble import RandomForestRegressor\n",
    "from sklearn.model_selection import GridSearchCV\n",
    "from sklearn.metrics import mean_squared_error\n",
    "from sklearn.ensemble import AdaBoostRegressor\n",
    "from sklearn.tree import DecisionTreeRegressor\n",
    "from sklearn.metrics import mean_squared_error\n",
    "#based off of Practice 04"
   ]
  },
  {
   "cell_type": "markdown",
   "id": "8f1195c6",
   "metadata": {},
   "source": [
    "## Random Forest"
   ]
  },
  {
   "cell_type": "code",
   "execution_count": 47,
   "id": "669a1b90",
   "metadata": {
    "scrolled": false
   },
   "outputs": [
    {
     "name": "stdout",
     "output_type": "stream",
     "text": [
      "Best parameters for Random Forest: {'bootstrap': True, 'max_depth': 10, 'max_features': None, 'n_estimators': 200}\n",
      "Best MSE on the validation set for Random Forest: -100.86027431055403\n",
      "Mean squared error: 73.51313658392789\n"
     ]
    }
   ],
   "source": [
    "# Hyper-parameter grid\n",
    "param_grid_rf = {\n",
    "    'n_estimators': [10, 50, 100, 200],\n",
    "    'max_depth': [10, 20, 30, 40],\n",
    "    'max_features': [None, 'sqrt', 'log2'],\n",
    "    'bootstrap': [True],\n",
    "}\n",
    "\n",
    "rf = RandomForestRegressor(random_state =42)\n",
    "grid_rf = GridSearchCV(rf, param_grid=param_grid_rf, scoring='neg_mean_squared_error', cv=3, n_jobs=-1)\n",
    "grid_rf.fit(X_train_scaled, y_train)\n",
    "\n",
    "\n",
    "best_params_rf = grid_rf.best_params_\n",
    "best_score_rf = grid_rf.best_score_\n",
    "# Print the best parameters and their score on the validation set\n",
    "print(\"Best parameters for Random Forest:\", best_params_rf)\n",
    "print(\"Best MSE on the validation set for Random Forest:\", best_score_rf)\n",
    "# Now you can retrain your model on the full training set with the best parameters\n",
    "rf_best = RandomForestRegressor(**best_params_rf, random_state=42)\n",
    "rf_best.fit(X_train_scaled, y_train)\n",
    "\n",
    "y_pred = rf_best.predict(X_test_scaled)\n",
    "print(f'Mean squared error: {mean_squared_error(y_test, y_pred)}')"
   ]
  },
  {
   "cell_type": "markdown",
   "id": "f42952ef",
   "metadata": {},
   "source": [
    "## Gradient Boosting (AdaBoost)"
   ]
  },
  {
   "cell_type": "code",
   "execution_count": 48,
   "id": "c52a926b",
   "metadata": {},
   "outputs": [
    {
     "name": "stdout",
     "output_type": "stream",
     "text": [
      "Best parameters for AdaBoost: {'estimator__max_depth': 2, 'learning_rate': 1, 'n_estimators': 200}\n",
      "Best score on the validation set for AdaBoost: -90.20736780385869\n",
      " Mean Squared Error on the test set: 54.6584\n"
     ]
    }
   ],
   "source": [
    "param_grid_adaboost = {\n",
    "    'n_estimators': [50, 100, 200],\n",
    "    'learning_rate': [0.01, 0.1, 1],\n",
    "    'estimator__max_depth': [1, 2, 3],\n",
    "}\n",
    "base_estimator = DecisionTreeRegressor()\n",
    "estimator = AdaBoostRegressor(estimator=base_estimator)\n",
    "grid_search_ada = GridSearchCV(estimator=estimator, param_grid=param_grid_adaboost, scoring='neg_mean_squared_error', cv=3)\n",
    "\n",
    "grid_search_ada.fit(X_train_scaled, y_train)\n",
    "\n",
    "best_params_adaboost = grid_search_ada.best_params_\n",
    "best_score_adaboost = grid_search_ada.best_score_\n",
    "# Print the best parameters and their score on the validation set\n",
    "print(\"Best parameters for AdaBoost:\", best_params_adaboost)\n",
    "print(\"Best score on the validation set for AdaBoost:\", best_score_adaboost)\n",
    "\n",
    "best_model = DecisionTreeRegressor(max_depth = best_params_adaboost['estimator__max_depth'])\n",
    "best_model = AdaBoostRegressor(estimator = best_model, n_estimators = best_params_adaboost['n_estimators'], \n",
    "                               learning_rate = best_params_adaboost['learning_rate'], random_state=42)\n",
    "best_model.fit(X_train_scaled, y_train)\n",
    "\n",
    "y_pred = best_model.predict(X_test_scaled)\n",
    "test_MSE = mean_squared_error(y_test, y_pred)\n",
    "print(f\" Mean Squared Error on the test set: {test_MSE:.4f}\")"
   ]
  },
  {
   "cell_type": "markdown",
   "id": "993166d5",
   "metadata": {},
   "source": [
    "## 1d. Results\n",
    "According to the results displayed, Forest Tree shows better results. Therefore, we will pick it model for our application.\n",
    "When allowing patients to enter both the training and the test dataset, the results become much more reasonable.\n",
    "As it currently stands, the model cannot be used for prediction due to the lack of consistency in the data, this was. \n",
    "EDIT:\n",
    "I noticed that the more I ran the code, the worse the results became.. "
   ]
  },
  {
   "cell_type": "code",
   "execution_count": null,
   "id": "0501773f",
   "metadata": {},
   "outputs": [],
   "source": []
  }
 ],
 "metadata": {
  "kernelspec": {
   "display_name": "Python 3 (ipykernel)",
   "language": "python",
   "name": "python3"
  },
  "language_info": {
   "codemirror_mode": {
    "name": "ipython",
    "version": 3
   },
   "file_extension": ".py",
   "mimetype": "text/x-python",
   "name": "python",
   "nbconvert_exporter": "python",
   "pygments_lexer": "ipython3",
   "version": "3.11.5"
  }
 },
 "nbformat": 4,
 "nbformat_minor": 5
}
